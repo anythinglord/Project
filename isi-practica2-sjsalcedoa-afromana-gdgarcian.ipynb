{
  "nbformat": 4,
  "nbformat_minor": 0,
  "metadata": {
    "colab": {
      "name": "Final isi-practica2-sjsalcedoa-afromana-gdgarcian.ipynb",
      "version": "0.3.2",
      "provenance": [],
      "collapsed_sections": []
    },
    "language_info": {
      "codemirror_mode": {
        "name": "ipython",
        "version": 3
      },
      "file_extension": ".py",
      "mimetype": "text/x-python",
      "name": "python",
      "nbconvert_exporter": "python",
      "pygments_lexer": "ipython3",
      "version": "3.6.8"
    },
    "kernelspec": {
      "display_name": "Python 3",
      "language": "python",
      "name": "python3"
    }
  },
  "cells": [
    {
      "metadata": {
        "id": "DShpybMJZxDR",
        "colab_type": "text"
      },
      "cell_type": "markdown",
      "source": [
        "# Práctica 2: Búsquedas no informadas\n",
        "### [Introducción a los sistemas inteligentes 2019-1](https://fagonzalezo.github.io/iis-2019-1/)\n",
        "\n",
        "___________\n",
        "\n",
        "**Fecha límite de entrega**: _Miércoles 24 de Abril_ antes de la medianoche. \n",
        "Envios fuera de este plazo no se tendrán en cuenta.\n",
        "\n",
        "\n",
        "Cerciórese de reiniciar y correr el notebook en su totalidad antes de enviarlo. Verifique que todas las salidas se muestran de manera correcta.\n",
        "\n",
        "Integrantes del grupo (máximo 3):\n",
        "\n",
        "* Samael de Jesus Salcedo Amortegui 1016099109\n",
        "* Andrés Fernando Román Arévalo 1007098201\n",
        "* German David Garcia Nieves 1026303730\n",
        "\n",
        "**Instrucciones de envío:**\n",
        "\n",
        "Este notebook debe enviarse a través del siguiente [File Request](https://www.dropbox.com/request/SLNaSv6au3PvQruWkxMO) antes de la medianoche de la fecha límite. El archivo debe nombrarse como  isi-practica2-unalusername1-unalusername2-unalusername3.ipynb, donde unalusername es el nombre de usuario asignado por la universidad (incluya los nombres de usuario de todos los miembros del grupo).\n",
        "\n",
        "-----\n",
        "\n",
        "\n",
        "## 1. El problema de las jarras de agua\n",
        "\n",
        "Usted tiene 2 jarras, una con capacidad de 3 litros y otra con capacidad de 5 litros. Además, se\n",
        "cuenta con un grifo. Las jarras se pueden llenar totalmente, vaciar en el piso y vaciar parcialmente el\n",
        "contenido de una jarra en la otra. Las jarras no tienen ninguna clase de marca. El objetivo es medir\n",
        "exactamente un litro de agua.\n",
        "\n",
        "### 1.1 \n",
        "Modele este problema creando una clase que herede de siguiente clase abstracta:\n",
        "\n",
        "\n"
      ]
    },
    {
      "metadata": {
        "id": "eqgvHlevAUB7",
        "colab_type": "text"
      },
      "cell_type": "markdown",
      "source": [
        "# Main Class Problem\n"
      ]
    },
    {
      "metadata": {
        "id": "npjwhbOrZxDS",
        "colab_type": "code",
        "colab": {}
      },
      "cell_type": "code",
      "source": [
        "%matplotlib inline\n",
        "import matplotlib.pyplot as plt\n",
        "import random\n",
        "import heapq\n",
        "import math\n",
        "import sys\n",
        "from collections import defaultdict, deque, Counter\n",
        "from itertools import combinations\n",
        "\n",
        "\n",
        "class Problem(object):\n",
        "    \n",
        "    def __init__(self, initial=None, goal=None, **kwds): \n",
        "        self.__dict__.update(initial=initial, goal=goal, **kwds) \n",
        "        \n",
        "    def actions(self, state):        raise NotImplementedError\n",
        "    def result(self, state, action): raise NotImplementedError\n",
        "    def is_goal(self, state):        return state == self.goal\n",
        "    def action_cost(self, s, a, s1): return 1\n",
        "    def h(self, node):               return 0\n",
        "    \n",
        "    def __str__(self):\n",
        "        return '{}({!r}, {!r})'.format(\n",
        "            type(self).__name__, self.initial, self.goal)\n",
        "    \n",
        "\n",
        "class Node:\n",
        "    \n",
        "    def __init__(self, state, parent=None, action=None, path_cost=0):\n",
        "        self.__dict__.update(state=state, parent=parent, action=action, path_cost=path_cost)\n",
        "\n",
        "    def __repr__(self): return '<{}>'.format(self.state)\n",
        "    def __len__(self): return 0 if self.parent is None else (1 + len(self.parent))\n",
        "    def __lt__(self, other): return self.path_cost < other.path_cost\n",
        "    \n",
        "    \n",
        "failure = Node('failure', path_cost=math.inf) # Indicates an algorithm couldn't find a solution.\n",
        "cutoff  = Node('cutoff',  path_cost=math.inf) # Indicates iterative deepening search was cut off.\n",
        "    \n",
        "    \n",
        "def expand(problem, node):\n",
        "    \n",
        "    s = node.state\n",
        "    for action in problem.actions(s):\n",
        "        s1 = problem.result(s, action)\n",
        "        cost = node.path_cost + problem.action_cost(s, action, s1)\n",
        "        yield Node(s1, node, action, cost)\n",
        "        \n",
        "\n",
        "def path_actions(node):\n",
        "    if node.parent is None:\n",
        "        return []  \n",
        "    return path_actions(node.parent) + [node.action]\n",
        "\n",
        "\n",
        "def path_states(node):\n",
        "    if node in (cutoff, failure, None): \n",
        "        return []\n",
        "    return path_states(node.parent) + [node.state]"
      ],
      "execution_count": 0,
      "outputs": []
    },
    {
      "metadata": {
        "id": "uNs8_CL5GTTJ",
        "colab_type": "text"
      },
      "cell_type": "markdown",
      "source": [
        "# Queues"
      ]
    },
    {
      "metadata": {
        "id": "z48On0iAGaVe",
        "colab_type": "code",
        "colab": {}
      },
      "cell_type": "code",
      "source": [
        "FIFOQueue = deque\n",
        "\n",
        "LIFOQueue = list\n",
        "\n",
        "class PriorityQueue:\n",
        "    \"\"\"A queue in which the item with minimum f(item) is always popped first.\"\"\"\n",
        "\n",
        "    def __init__(self, items=(), key=lambda x: x): \n",
        "        self.key = key\n",
        "        self.items = [] # a heap of (score, item) pairs\n",
        "        for item in items:\n",
        "            self.add(item)\n",
        "         \n",
        "    def add(self, item):\n",
        "        \"\"\"Add item to the queuez.\"\"\"\n",
        "        pair = (self.key(item), item)\n",
        "        heapq.heappush(self.items, pair)\n",
        "\n",
        "    def pop(self):\n",
        "        \"\"\"Pop and return the item with min f(item) value.\"\"\"\n",
        "        return heapq.heappop(self.items)[1]\n",
        "    \n",
        "    def top(self): return self.items[0][1]\n",
        "\n",
        "    def __len__(self): return len(self.items)"
      ],
      "execution_count": 0,
      "outputs": []
    },
    {
      "metadata": {
        "id": "GQNdDaO4An8k",
        "colab_type": "text"
      },
      "cell_type": "markdown",
      "source": [
        "# Pour Problem\n",
        "Problema modelado herado de la clase problem :V\n"
      ]
    },
    {
      "metadata": {
        "id": "E0ErfBWMA9UM",
        "colab_type": "code",
        "colab": {}
      },
      "cell_type": "code",
      "source": [
        "class PourProblem(Problem):\n",
        "    \n",
        "    def actions(self, state):\n",
        "        jugs = range(len(state))\n",
        "        return ([('Fill', i)    for i in jugs if state[i] < self.sizes[i]] +\n",
        "                [('Dump', i)    for i in jugs if state[i]] +\n",
        "                [('Pour', i, j) for i in jugs if state[i] for j in jugs if i != j])\n",
        "\n",
        "    def result(self, state, action):\n",
        "        \"\"\"The state that results from executing this action in this state.\"\"\"\n",
        "        result = list(state)\n",
        "        act, i, *_ = action\n",
        "        \n",
        "        if act == 'Fill':   # Fill i to capacity\n",
        "            result[i] = self.sizes[i]\n",
        "        \n",
        "        elif act == 'Dump': # Empty i\n",
        "            result[i] = 0\n",
        "        \n",
        "        elif act == 'Pour': # Pour from i into j\n",
        "            j = action[2]\n",
        "            amount = min(state[i], self.sizes[j] - state[j])\n",
        "            result[i] -= amount\n",
        "            result[j] += amount\n",
        "        return tuple(result)\n",
        "\n",
        "    def is_goal(self, state):\n",
        "        \"\"\"True if the goal level is in any one of the jugs.\"\"\"\n",
        "        return self.goal in state"
      ],
      "execution_count": 0,
      "outputs": []
    },
    {
      "metadata": {
        "id": "l-q74S5iZxDU",
        "colab_type": "text"
      },
      "cell_type": "markdown",
      "source": [
        "**Nota:** Utilice como guía este [notebook](https://github.com/aimacode/aima-python/blob/master/search4e.ipynb) del AIMA Github Repository donde se implementa el problema para un número arbitrario de jarras. "
      ]
    },
    {
      "metadata": {
        "id": "nc3lGeVMZxDV",
        "colab_type": "text"
      },
      "cell_type": "markdown",
      "source": [
        "### 1.2 \n",
        "Encuentre una solución utilizando búsqueda en amplitud. Utilice la función `breadth_first_search` en el [notebook](https://github.com/aimacode/aima-python/blob/master/search4e.ipynb) de AIMA. Su código debe imprimir cada uno de los pasos de la solución. \n",
        "\n",
        "**Nota**: la función `breadth_first_search` devuelve un nodo del árbol de búsqueda. Busque la funciones en el notebook que le permiten obtener la secuencia de acciones de la solución a partir del nodo resultante. "
      ]
    },
    {
      "metadata": {
        "id": "su7vKThFFf9a",
        "colab_type": "text"
      },
      "cell_type": "markdown",
      "source": [
        "# Breadth First Search"
      ]
    },
    {
      "metadata": {
        "id": "TlPGUICpBWHe",
        "colab_type": "code",
        "colab": {}
      },
      "cell_type": "code",
      "source": [
        "def breadth_first_search(problem):\n",
        "    \n",
        "    node = Node(problem.initial)\n",
        "    if problem.is_goal(problem.initial):\n",
        "        return node\n",
        "    frontier = FIFOQueue([node])\n",
        "    reached = {problem.initial}\n",
        "    while frontier:\n",
        "        node = frontier.pop()\n",
        "        for child in expand(problem, node):\n",
        "            s = child.state\n",
        "            if problem.is_goal(s):\n",
        "                return child\n",
        "            if s not in reached and s != None:\n",
        "                reached.add(s)\n",
        "                frontier.appendleft(child)\n",
        "    return failure"
      ],
      "execution_count": 0,
      "outputs": []
    },
    {
      "metadata": {
        "id": "aT8-L1Z4FTGn",
        "colab_type": "code",
        "outputId": "9a5b5f79-1476-446f-da10-3eb4c5d9098b",
        "colab": {
          "base_uri": "https://localhost:8080/",
          "height": 50
        }
      },
      "cell_type": "code",
      "source": [
        "p1 = PourProblem((0,0), 1, sizes=(5,3))\n",
        "soln = breadth_first_search(p1)\n",
        "path_actions(soln), path_states(soln)\n"
      ],
      "execution_count": 5,
      "outputs": [
        {
          "output_type": "execute_result",
          "data": {
            "text/plain": [
              "([('Fill', 1), ('Pour', 1, 0), ('Fill', 1), ('Pour', 1, 0)],\n",
              " [(0, 0), (0, 3), (3, 0), (3, 3), (5, 1)])"
            ]
          },
          "metadata": {
            "tags": []
          },
          "execution_count": 5
        }
      ]
    },
    {
      "metadata": {
        "id": "QcejhH55ZxDV",
        "colab_type": "text"
      },
      "cell_type": "markdown",
      "source": [
        "### 1.3\n",
        "Encuentre una solución utilizando búsqueda en profundidad. Utilice la función `depth_first_recursive_search` en el  [notebook](https://github.com/aimacode/aima-python/blob/master/search4e.ipynb) de AIMA. Su código debe imprimir cada uno de los pasos de la solución. \n",
        "\n",
        "¿La solución difiere de la solución producida por BFS? Explique."
      ]
    },
    {
      "metadata": {
        "id": "hsXOJecRKckU",
        "colab_type": "text"
      },
      "cell_type": "markdown",
      "source": [
        "# Depth First Recursive Search "
      ]
    },
    {
      "metadata": {
        "id": "DMw-PqJ-Kon9",
        "colab_type": "code",
        "colab": {}
      },
      "cell_type": "code",
      "source": [
        "def is_cycle(node, k=30):\n",
        "    \"Does this node form a cycle of length k or less?\"\n",
        "    def find_cycle(ancestor, k):\n",
        "        return (ancestor is not None and k > 0 and\n",
        "                (ancestor.state == node.state or find_cycle(ancestor.parent, k - 1)))\n",
        "    return find_cycle(node.parent, k)\n",
        "  \n",
        "def depth_first_recursive_search(problem, node=None):\n",
        "    if node is None: \n",
        "        node = Node(problem.initial)\n",
        "    if problem.is_goal(node.state):\n",
        "        return node\n",
        "    elif is_cycle(node):\n",
        "        return failure\n",
        "    else:\n",
        "        for child in expand(problem, node):\n",
        "            result = depth_first_recursive_search(problem, child)\n",
        "            if result:\n",
        "                return result\n",
        "        return failure"
      ],
      "execution_count": 0,
      "outputs": []
    },
    {
      "metadata": {
        "id": "IRKawK2uaxAd",
        "colab_type": "code",
        "colab": {}
      },
      "cell_type": "code",
      "source": [
        "dfs = depth_first_recursive_search(p1)"
      ],
      "execution_count": 0,
      "outputs": []
    },
    {
      "metadata": {
        "id": "VtuZySR6K3D1",
        "colab_type": "code",
        "outputId": "cf1bbf71-892d-4aee-9425-2955094e66d5",
        "colab": {
          "base_uri": "https://localhost:8080/",
          "height": 34
        }
      },
      "cell_type": "code",
      "source": [
        "\n",
        "path_states(dfs)\n"
      ],
      "execution_count": 8,
      "outputs": [
        {
          "output_type": "execute_result",
          "data": {
            "text/plain": [
              "[(0, 0), (5, 0), (5, 3), (0, 3), (3, 0), (3, 3), (5, 1)]"
            ]
          },
          "metadata": {
            "tags": []
          },
          "execution_count": 8
        }
      ]
    },
    {
      "metadata": {
        "id": "BGJjvL8ULtaU",
        "colab_type": "code",
        "outputId": "62d8dc79-24c9-4d87-b761-7cc728c0f730",
        "colab": {
          "base_uri": "https://localhost:8080/",
          "height": 118
        }
      },
      "cell_type": "code",
      "source": [
        "path_actions(dfs)"
      ],
      "execution_count": 9,
      "outputs": [
        {
          "output_type": "execute_result",
          "data": {
            "text/plain": [
              "[('Fill', 0),\n",
              " ('Fill', 1),\n",
              " ('Dump', 0),\n",
              " ('Pour', 1, 0),\n",
              " ('Fill', 1),\n",
              " ('Pour', 1, 0)]"
            ]
          },
          "metadata": {
            "tags": []
          },
          "execution_count": 9
        }
      ]
    },
    {
      "metadata": {
        "id": "eGrdxpYfLvrE",
        "colab_type": "text"
      },
      "cell_type": "markdown",
      "source": [
        "\n",
        "\n",
        "** Al ejecutar BFS se encuentra la solucion mas optima(la que tiene menos acciones a realizar) mientras que DFS al hacer la busqueda por profundidad encuentra una solucion no necesariamente la mas optima**\n",
        "\n",
        "\n",
        "\n"
      ]
    },
    {
      "metadata": {
        "id": "XvByI78cZxDW",
        "colab_type": "text"
      },
      "cell_type": "markdown",
      "source": [
        "## 2. El problema de los misioneros y los caníbales (MC).\n",
        "\n",
        "Tres misioneros y tres caníbales deben cruzar un río usando un bote que puede llevar como máximo a dos personas, bajo la restricción de que, para ambos lados del río, si hay misioneros presentes en un lado, no pueden ser superados en número por caníbales (si lo fueran, los caníbales se comerían a los misioneros). El barco no puede cruzar el río por sí mismo sin gente a bordo.\n",
        "\n",
        "Su objetivo es modelar este problema como un problema de búsqueda y resolverlo usando diferentes algoritmos de búsqueda.\n",
        "\n",
        "### 2.1 (2.0) Cree una clase para modelar el problema MC\n",
        "\n",
        "Un estado del problema puede representarse de diferentes formas. La sugerencia es usar una tupla de valores indicando el número de misioneros y caníbales en cada lado del rio, así como la posición del bote:\n",
        "\n",
        "```python\n",
        "('I', 3, 2, 0, 1)\n",
        "```\n",
        "\n",
        "Representa un estado en el cual el bote se encuentra en el lado izquierdo, hay 3 misioneros en el lado izquierdo, 2 caníbales en el lado izquierdo, cero misioneros en el lado derecho y 1 canibal en el lado derecho.\n",
        "\n",
        "Una acción puede representarse como una pareja de valores indicando cuantos misioneros y caníbales se van a mover. Por ejemplo el siguiente vector\n",
        "\n",
        "```python\n",
        "(0, 1)\n",
        "```\n",
        "\n",
        "Indica que se moverán cero misioneros y un canibal. Note que no es necesario representar el bote, pues este siempre se mueve.\n",
        "\n",
        "Asuma que al principio todos los actores están a la izquierda y al final todos deben estar a la derecha.\n",
        "\n"
      ]
    },
    {
      "metadata": {
        "id": "KDftq-mBPB8E",
        "colab_type": "text"
      },
      "cell_type": "markdown",
      "source": [
        "# Misioneros y canibales\n",
        "\n"
      ]
    },
    {
      "metadata": {
        "id": "m0wSZNZlPAMt",
        "colab_type": "code",
        "colab": {}
      },
      "cell_type": "code",
      "source": [
        "class RiverProblem(Problem):\n",
        "    \n",
        "    def actions(self, state):\n",
        "        return [(0,1),(1,0),(1,1),(2,0),(0,2)]\n",
        "        \n",
        "\n",
        "    def result(self, state, action):\n",
        "        \n",
        "        result = list(state) \n",
        "        stat = list(action) \n",
        "        # misionesros - canibal\n",
        "        \n",
        "        if stat[0]==1 and stat[1]==1:\n",
        "          if (result[1]>=result[2] and result[3]>= result[4]) or (result[3]==0 and result[1]>=result[2]) or (result[1]==0 and result[3]>=result[4]):\n",
        "            if result[0]==\"L\":\n",
        "              result[0]=\"R\"\n",
        "              result[1]=result[1]-stat[0]\n",
        "              result[2]=result[2]-stat[1]\n",
        "              result[3]=result[3]+stat[0]\n",
        "              result[4]=result[4]+stat[1]\n",
        "            else:\n",
        "              result[0]=\"L\"\n",
        "              result[1]=result[1]+stat[0]\n",
        "              result[2]=result[2]+stat[1]\n",
        "              result[3]=result[3]-stat[0]\n",
        "              result[4]=result[4]-stat[1]\n",
        "            \n",
        "        #Paso de un o dos misionero\n",
        "        elif stat[0]==1 or stat[0]==2:\n",
        "          if (result[1]>=result[2] and result[3]>= result[4]) or (result[3]==0 and result[1]>=result[2]) or (result[1]==0 and result[3]>=result[4]):\n",
        "            if result[0]==\"L\":\n",
        "              result[0]=\"R\"\n",
        "              result[1]=result[1]-stat[0]\n",
        "              result[3]=result[3]+stat[0]\n",
        "            else:\n",
        "              result[0]=\"L\"\n",
        "              result[1]=result[1]+stat[0]\n",
        "              result[3]=result[3]-stat[0]\n",
        "        \n",
        "        #Paso de un o dos canibales\n",
        "        elif stat[1]==1 or stat[1]==2:\n",
        "          if(result[1]>=result[2] and result[3]>= result[4]) or (result[3]==0 and result[1]>=result[2]) or (result[1]==0 and result[3]>=result[4]):\n",
        "            if result[0]==\"L\":\n",
        "              result[0]=\"R\"\n",
        "              result[2]=result[2]-stat[1]\n",
        "              result[4]=result[4]+stat[1]\n",
        "            else:\n",
        "              result[0]=\"L\"\n",
        "              result[2]=result[2]+stat[1]\n",
        "              result[4]=result[4]-stat[1]\n",
        "        if 0<=result[1]<=3 and 0<=result[2]<=3 and 0<=result[3]<=3 and 0<=result[4]<=3:\n",
        "          return tuple(result)\n",
        "        else:\n",
        "          return None\n",
        "\n",
        "    def is_goal(self, state):\n",
        "        return self.goal == state"
      ],
      "execution_count": 0,
      "outputs": []
    },
    {
      "metadata": {
        "id": "_ZMql-ZePP4j",
        "colab_type": "code",
        "colab": {}
      },
      "cell_type": "code",
      "source": [
        "r1 = RiverProblem(('L', 3, 3, 0, 0), ('R', 0 , 0 , 3 , 3))"
      ],
      "execution_count": 0,
      "outputs": []
    },
    {
      "metadata": {
        "id": "r1u5GMoqZxDW",
        "colab_type": "text"
      },
      "cell_type": "markdown",
      "source": [
        "### 2.2   Use un método de búsqueda para encontrar una solución óptima al problema\n",
        "\n",
        "Cree una función que calcule la secuencia de acciones que resuelva el problema así como los estados (incluidos el inicial y el final) que se  visitan al ejecutar la solución. Cuántos movimientos requiere la solución óptima?"
      ]
    },
    {
      "metadata": {
        "id": "nk9AhQynIHjR",
        "colab_type": "code",
        "colab": {}
      },
      "cell_type": "code",
      "source": [
        "bfs_river = breadth_first_search(r1)"
      ],
      "execution_count": 0,
      "outputs": []
    },
    {
      "metadata": {
        "id": "k2AauRXizkDe",
        "colab_type": "text"
      },
      "cell_type": "markdown",
      "source": [
        "11 movimientos se requieren para la solución óptima"
      ]
    },
    {
      "metadata": {
        "id": "SuyTcHnRzSjR",
        "colab_type": "text"
      },
      "cell_type": "markdown",
      "source": [
        "#Acciones"
      ]
    },
    {
      "metadata": {
        "id": "md8X9Y_QOxoy",
        "colab_type": "code",
        "outputId": "f4bfa313-837a-482d-f205-0d08565b2d70",
        "colab": {
          "base_uri": "https://localhost:8080/",
          "height": 202
        }
      },
      "cell_type": "code",
      "source": [
        "path_actions(bfs_river)"
      ],
      "execution_count": 13,
      "outputs": [
        {
          "output_type": "execute_result",
          "data": {
            "text/plain": [
              "[(1, 1),\n",
              " (1, 0),\n",
              " (0, 2),\n",
              " (0, 1),\n",
              " (2, 0),\n",
              " (1, 1),\n",
              " (2, 0),\n",
              " (0, 1),\n",
              " (0, 2),\n",
              " (0, 1),\n",
              " (0, 2)]"
            ]
          },
          "metadata": {
            "tags": []
          },
          "execution_count": 13
        }
      ]
    },
    {
      "metadata": {
        "id": "oVaHclH9zWXX",
        "colab_type": "text"
      },
      "cell_type": "markdown",
      "source": [
        "# Estados desde inicial hasta el final\n"
      ]
    },
    {
      "metadata": {
        "id": "X7F1s_5oY9iz",
        "colab_type": "code",
        "outputId": "57af3ffe-e355-4e54-db0c-1088e54a62db",
        "colab": {
          "base_uri": "https://localhost:8080/",
          "height": 218
        }
      },
      "cell_type": "code",
      "source": [
        "path_states(bfs_river)"
      ],
      "execution_count": 14,
      "outputs": [
        {
          "output_type": "execute_result",
          "data": {
            "text/plain": [
              "[('L', 3, 3, 0, 0),\n",
              " ('R', 2, 2, 1, 1),\n",
              " ('L', 3, 2, 0, 1),\n",
              " ('R', 3, 0, 0, 3),\n",
              " ('L', 3, 1, 0, 2),\n",
              " ('R', 1, 1, 2, 2),\n",
              " ('L', 2, 2, 1, 1),\n",
              " ('R', 0, 2, 3, 1),\n",
              " ('L', 0, 3, 3, 0),\n",
              " ('R', 0, 1, 3, 2),\n",
              " ('L', 0, 2, 3, 1),\n",
              " ('R', 0, 0, 3, 3)]"
            ]
          },
          "metadata": {
            "tags": []
          },
          "execution_count": 14
        }
      ]
    },
    {
      "metadata": {
        "id": "MJzEfS8zZxDX",
        "colab_type": "text"
      },
      "cell_type": "markdown",
      "source": [
        "### 2.3  Estados alcanzables desde el estado inicial\n",
        "\n",
        "Cree una función que calcule todos los estados alcanzables desde el estado inicial, es decir estados para los que existe una secuencia de acciones que lleva del estado inicial a ellos. ¿Son todos los estados posibles alcanzables?"
      ]
    },
    {
      "metadata": {
        "id": "W3z2GZkWd1XF",
        "colab_type": "code",
        "colab": {}
      },
      "cell_type": "code",
      "source": [
        "Nodos = list()\n",
        "\n",
        "def bfs(problem):\n",
        "    node = Node(problem.initial)\n",
        "    Nodos.append(list(problem.initial))\n",
        "    \n",
        "    if problem.is_goal(problem.initial):\n",
        "        return node\n",
        "    frontier = FIFOQueue([node])\n",
        "    reached = {problem.initial}\n",
        "    while frontier:\n",
        "        node = frontier.pop()\n",
        "        for child in expand(problem, node):\n",
        "            s = child.state\n",
        "            if problem.is_goal(s):\n",
        "                Nodos.append(list(s))\n",
        "                return child\n",
        "            if s not in reached and s != None:\n",
        "                \n",
        "                if s not in Nodos:\n",
        "                    Nodos.append(list(s))\n",
        "                reached.add(s)\n",
        "                frontier.appendleft(child)\n",
        "    return failure"
      ],
      "execution_count": 0,
      "outputs": []
    },
    {
      "metadata": {
        "id": "xFZxbjA5epZK",
        "colab_type": "code",
        "colab": {}
      },
      "cell_type": "code",
      "source": [
        "def Expand():\n",
        "    bfs(r1)\n",
        "    h = 0\n",
        "    for i in range(len(Nodos)):\n",
        "        p = Nodos[i]\n",
        "        \n",
        "        if p[1] == 0:\n",
        "            if p[3] >= p[4]:\n",
        "                print(p) \n",
        "                h = h + 1\n",
        "      \n",
        "        elif p[3] == 0:\n",
        "            if p[1] >= p[2]:\n",
        "                print(p) \n",
        "                h = h + 1\n",
        "        else: \n",
        "            if p[1] >= p[2] and p[3] >= p[4]:\n",
        "                print(p) \n",
        "                h= h + 1\n",
        "      \n",
        "    print(\"Numero de nodos Alcanzables: \",h)"
      ],
      "execution_count": 0,
      "outputs": []
    },
    {
      "metadata": {
        "id": "NTfvDwzLd5ov",
        "colab_type": "code",
        "colab": {
          "base_uri": "https://localhost:8080/",
          "height": 286
        },
        "outputId": "6a5e7fdb-c0e7-4921-8412-13f61f796083"
      },
      "cell_type": "code",
      "source": [
        "Nodos = list()\n",
        "Expand()"
      ],
      "execution_count": 17,
      "outputs": [
        {
          "output_type": "stream",
          "text": [
            "['L', 3, 3, 0, 0]\n",
            "['R', 3, 2, 0, 1]\n",
            "['R', 2, 2, 1, 1]\n",
            "['R', 3, 1, 0, 2]\n",
            "['L', 3, 2, 0, 1]\n",
            "['R', 3, 0, 0, 3]\n",
            "['L', 3, 1, 0, 2]\n",
            "['R', 1, 1, 2, 2]\n",
            "['L', 2, 2, 1, 1]\n",
            "['R', 0, 2, 3, 1]\n",
            "['L', 0, 3, 3, 0]\n",
            "['R', 0, 1, 3, 2]\n",
            "['L', 0, 2, 3, 1]\n",
            "['L', 1, 1, 2, 2]\n",
            "['R', 0, 0, 3, 3]\n",
            "Numero de nodos Alcanzables:  15\n"
          ],
          "name": "stdout"
        }
      ]
    },
    {
      "metadata": {
        "id": "GJUsZzbjet3O",
        "colab_type": "text"
      },
      "cell_type": "markdown",
      "source": [
        "**Desde el estado inicial todos los posibles estados no son alcanzables dado que, en algunos de ellos no cumplen las condiciones iniciales para que fueran validos**\n",
        "\n",
        "Ejemplo: que hayan mas canibales que misioneros en alguno de los dos lados o en ambos, Tambien que se quieran mover misioneros o canibales de el lado derecho o izquierdo cuando en dicho lado no hay ninguno."
      ]
    }
  ]
}